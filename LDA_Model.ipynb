{
  "nbformat": 4,
  "nbformat_minor": 0,
  "metadata": {
    "colab": {
      "provenance": [],
      "authorship_tag": "ABX9TyP/S8/ZoPVODL9mFG342Mz1",
      "include_colab_link": true
    },
    "kernelspec": {
      "name": "python3",
      "display_name": "Python 3"
    },
    "language_info": {
      "name": "python"
    }
  },
  "cells": [
    {
      "cell_type": "markdown",
      "metadata": {
        "id": "view-in-github",
        "colab_type": "text"
      },
      "source": [
        "<a href=\"https://colab.research.google.com/github/dhineshkannan6543/Machine-Learning-/blob/main/LDA_Model.ipynb\" target=\"_parent\"><img src=\"https://colab.research.google.com/assets/colab-badge.svg\" alt=\"Open In Colab\"/></a>"
      ]
    },
    {
      "cell_type": "code",
      "execution_count": 1,
      "metadata": {
        "colab": {
          "base_uri": "https://localhost:8080/"
        },
        "id": "TRO-3feKJiQ6",
        "outputId": "dc320d1a-c0c5-47b0-e778-54a5a1cfc67a"
      },
      "outputs": [
        {
          "output_type": "stream",
          "name": "stdout",
          "text": [
            "                                                title  category  \\\n",
            "0   Warning: HLVX is at high risk of performing badly  business   \n",
            "1   Warning: NTBLQ is at high risk of performing b...  business   \n",
            "2   Warning: MYNZ is at high risk of performing badly  business   \n",
            "3   Warning: ZVSA is at high risk of performing badly  business   \n",
            "4   Warning: CLDI is at high risk of performing badly  business   \n",
            "5   Warning: AVTE is at high risk of performing badly  business   \n",
            "6   Warning: IVVD is at high risk of performing badly  business   \n",
            "7   Who is Susie Wiles? Trump taps trusted campaig...  business   \n",
            "8   Red Rock Resorts, Inc. GAAP EPS of $0.48 beats...  business   \n",
            "9                      EMX Royalty reports Q3 results  business   \n",
            "10  Eupraxia Pharmaceuticals Reports Third Quarter...  business   \n",
            "11  Exclusive: Jack Dorsey’s Block ordered employe...  business   \n",
            "12  Pentagon chief says he has not changed positio...  business   \n",
            "13  Taiwan's TSMC says US investment plan are unch...  business   \n",
            "14  Warning: CHRS is at high risk of performing badly  business   \n",
            "\n",
            "    predicted_topic  correctly_classified  \n",
            "0                 0                  True  \n",
            "1                 0                  True  \n",
            "2                 0                  True  \n",
            "3                 0                  True  \n",
            "4                 0                  True  \n",
            "5                 0                  True  \n",
            "6                 0                  True  \n",
            "7                 0                  True  \n",
            "8                 1                 False  \n",
            "9                 0                  True  \n",
            "10                1                 False  \n",
            "11                1                 False  \n",
            "12                1                 False  \n",
            "13                1                 False  \n",
            "14                0                  True  \n",
            "              precision    recall  f1-score   support\n",
            "\n",
            "           0       0.00      0.00      0.00       0.0\n",
            "           1       0.00      0.00      0.00       0.0\n",
            "    business       0.00      0.00      0.00      15.0\n",
            "\n",
            "    accuracy                           0.00      15.0\n",
            "   macro avg       0.00      0.00      0.00      15.0\n",
            "weighted avg       0.00      0.00      0.00      15.0\n",
            "\n"
          ]
        },
        {
          "output_type": "stream",
          "name": "stderr",
          "text": [
            "/usr/local/lib/python3.11/dist-packages/sklearn/metrics/_classification.py:1565: UndefinedMetricWarning: Precision is ill-defined and being set to 0.0 in labels with no predicted samples. Use `zero_division` parameter to control this behavior.\n",
            "  _warn_prf(average, modifier, f\"{metric.capitalize()} is\", len(result))\n",
            "/usr/local/lib/python3.11/dist-packages/sklearn/metrics/_classification.py:1565: UndefinedMetricWarning: Recall is ill-defined and being set to 0.0 in labels with no true samples. Use `zero_division` parameter to control this behavior.\n",
            "  _warn_prf(average, modifier, f\"{metric.capitalize()} is\", len(result))\n",
            "/usr/local/lib/python3.11/dist-packages/sklearn/metrics/_classification.py:1565: UndefinedMetricWarning: Precision is ill-defined and being set to 0.0 in labels with no predicted samples. Use `zero_division` parameter to control this behavior.\n",
            "  _warn_prf(average, modifier, f\"{metric.capitalize()} is\", len(result))\n",
            "/usr/local/lib/python3.11/dist-packages/sklearn/metrics/_classification.py:1565: UndefinedMetricWarning: Recall is ill-defined and being set to 0.0 in labels with no true samples. Use `zero_division` parameter to control this behavior.\n",
            "  _warn_prf(average, modifier, f\"{metric.capitalize()} is\", len(result))\n",
            "/usr/local/lib/python3.11/dist-packages/sklearn/metrics/_classification.py:1565: UndefinedMetricWarning: Precision is ill-defined and being set to 0.0 in labels with no predicted samples. Use `zero_division` parameter to control this behavior.\n",
            "  _warn_prf(average, modifier, f\"{metric.capitalize()} is\", len(result))\n",
            "/usr/local/lib/python3.11/dist-packages/sklearn/metrics/_classification.py:1565: UndefinedMetricWarning: Recall is ill-defined and being set to 0.0 in labels with no true samples. Use `zero_division` parameter to control this behavior.\n",
            "  _warn_prf(average, modifier, f\"{metric.capitalize()} is\", len(result))\n"
          ]
        }
      ],
      "source": [
        "import pandas as pd\n",
        "import numpy as np\n",
        "import re\n",
        "from sklearn.feature_extraction.text import TfidfVectorizer\n",
        "from sklearn.decomposition import LatentDirichletAllocation\n",
        "from sklearn.metrics import classification_report\n",
        "\n",
        "# Sample data: List of news articles (in a dictionary format)\n",
        "data = [\n",
        "    {\"title\": \"Warning: HLVX is at high risk of performing badly\", \"category\": \"business\", \"description\": \"Warning: HLVX is at high risk of performing badly\"},\n",
        "    {\"title\": \"Warning: NTBLQ is at high risk of performing badly\", \"category\": \"business\", \"description\": \"Warning: NTBLQ is at high risk of performing badly\"},\n",
        "    {\"title\": \"Warning: MYNZ is at high risk of performing badly\", \"category\": \"business\", \"description\": \"Warning: MYNZ is at high risk of performing badly\"},\n",
        "    {\"title\": \"Warning: ZVSA is at high risk of performing badly\", \"category\": \"business\", \"description\": \"Warning: ZVSA is at high risk of performing badly\"},\n",
        "    {\"title\": \"Warning: CLDI is at high risk of performing badly\", \"category\": \"business\", \"description\": \"Warning: CLDI is at high risk of performing badly\"},\n",
        "    {\"title\": \"Warning: AVTE is at high risk of performing badly\", \"category\": \"business\", \"description\": \"Warning: AVTE is at high risk of performing badly\"},\n",
        "    {\"title\": \"Warning: IVVD is at high risk of performing badly\", \"category\": \"business\", \"description\": \"Warning: IVVD is at high risk of performing badly\"},\n",
        "    {\"title\": \"Who is Susie Wiles? Trump taps trusted campaign manager with a reputation for controlling his worst impulses to be chief of staff\", \"category\": \"business\", \"description\": \"She was able to do what few others have been able to...\"},\n",
        "    {\"title\": \"Red Rock Resorts, Inc. GAAP EPS of $0.48 beats by $0.11, revenue of $468M beats by $7.09M\", \"category\": \"business\", \"description\": \"Red Rock Resorts, Inc. GAAP EPS of $0.48 beats by $0.11, revenue of $468M beats by $7.09M\"},\n",
        "    {\"title\": \"EMX Royalty reports Q3 results\", \"category\": \"business\", \"description\": \"EMX Royalty reports Q3 results\"},\n",
        "    {\"title\": \"Eupraxia Pharmaceuticals Reports Third Quarter 2024 Financial Results\", \"category\": \"business\", \"description\": \"Eupraxia Pharmaceuticals Reports Third Quarter 2024 Financial Results\"},\n",
        "    {\"title\": \"Exclusive: Jack Dorsey’s Block ordered employees not to discuss board member Jay-Z amid more layoffs\", \"category\": \"business\", \"description\": \"Employees were told last month not to discuss Jay-Z on internal forums like Slack.\"},\n",
        "    {\"title\": \"Pentagon chief says he has not changed position on Guantanamo Bay plea deals\", \"category\": \"business\", \"description\": \"Pentagon chief says he has not changed position on Guantanamo Bay plea deals\"},\n",
        "    {\"title\": \"Taiwan's TSMC says US investment plan are unchanged after election\", \"category\": \"business\", \"description\": \"Taiwan's TSMC says US investment plan are unchanged after election\"},\n",
        "    {\"title\": \"Warning: CHRS is at high risk of performing badly\", \"category\": \"business\", \"description\": \"Warning: CHRS is at high risk of performing badly\"}\n",
        "]\n",
        "\n",
        "# Convert the data into a pandas DataFrame\n",
        "df = pd.DataFrame(data)\n",
        "\n",
        "# Preprocessing the text (removing stopwords, punctuation, and tokenizing)\n",
        "def preprocess(text):\n",
        "    text = text.lower()  # Convert to lowercase\n",
        "    text = re.sub(r'\\s+', ' ', text)  # Remove extra spaces\n",
        "    text = re.sub(r'[^\\w\\s]', '', text)  # Remove punctuation\n",
        "    return text\n",
        "\n",
        "df['cleaned_text'] = df['description'].apply(preprocess)\n",
        "\n",
        "# Vectorization using TF-IDF\n",
        "vectorizer = TfidfVectorizer(stop_words='english')\n",
        "X = vectorizer.fit_transform(df['cleaned_text'])\n",
        "\n",
        "# Apply LDA model\n",
        "lda = LatentDirichletAllocation(n_components=2, random_state=42)  # Assuming we have 2 topics\n",
        "lda.fit(X)\n",
        "\n",
        "# Predict the topic for each document\n",
        "topic_assignments = lda.transform(X).argmax(axis=1)\n",
        "\n",
        "# Compare the predicted topic with the original category\n",
        "# For simplicity, assuming 'business' is the only category, so all should fall under topic 0\n",
        "df['predicted_topic'] = topic_assignments\n",
        "df['correctly_classified'] = df['predicted_topic'].apply(lambda x: x == 0)\n",
        "\n",
        "# Print the results\n",
        "print(df[['title', 'category', 'predicted_topic', 'correctly_classified']])\n",
        "\n",
        "# Evaluation: Classification Report\n",
        "print(classification_report(df['category'], df['predicted_topic'].astype(str)))"
      ]
    },
    {
      "cell_type": "code",
      "source": [],
      "metadata": {
        "id": "0dYPywesKBFl"
      },
      "execution_count": null,
      "outputs": []
    },
    {
      "cell_type": "code",
      "source": [
        "import pandas as pd\n",
        "import numpy as np\n",
        "import re\n",
        "from sklearn.feature_extraction.text import TfidfVectorizer\n",
        "from sklearn.decomposition import LatentDirichletAllocation\n",
        "from sklearn.metrics import classification_report\n",
        "\n",
        "# Sample data: List of news articles (in a dictionary format)\n",
        "data = pd.read_json(\"/content/business_news_Q42024.json\")\n",
        "\n",
        "# Convert the data into a pandas DataFrame\n",
        "df = pd.DataFrame(data)\n",
        "\n",
        "# Preprocessing the text (removing stopwords, punctuation, and tokenizing)\n",
        "def preprocess(text):\n",
        "    text = text.lower()  # Convert to lowercase\n",
        "    text = re.sub(r'\\s+', ' ', text)  # Remove extra spaces\n",
        "    text = re.sub(r'[^\\w\\s]', '', text)  # Remove punctuation\n",
        "    return text\n",
        "\n",
        "df['cleaned_text'] = df['description'].apply(preprocess)\n",
        "\n",
        "# Vectorization using TF-IDF\n",
        "vectorizer = TfidfVectorizer(stop_words='english')\n",
        "X = vectorizer.fit_transform(df['cleaned_text'])\n",
        "\n",
        "# Apply LDA model\n",
        "lda = LatentDirichletAllocation(n_components=2, random_state=42)  # Assuming we have 2 topics\n",
        "lda.fit(X)\n",
        "\n",
        "# Predict the topic for each document\n",
        "topic_assignments = lda.transform(X).argmax(axis=1)\n",
        "\n",
        "# Compare the predicted topic with the original category\n",
        "# For simplicity, assuming 'business' is the only category, so all should fall under topic 0\n",
        "df['predicted_topic'] = topic_assignments\n",
        "df['correctly_classified'] = df['predicted_topic'].apply(lambda x: x == 0)\n",
        "\n",
        "# Print the results\n",
        "print(df[['title', 'category', 'predicted_topic', 'correctly_classified']])\n",
        "\n",
        "# Evaluation: Classification Report\n",
        "print(classification_report(df['category'], df['predicted_topic'].astype(str)))\n"
      ],
      "metadata": {
        "colab": {
          "base_uri": "https://localhost:8080/"
        },
        "id": "B0wT_WG8G-Et",
        "outputId": "b7d6da42-b221-40ef-b0f8-babb48de03a4"
      },
      "execution_count": 2,
      "outputs": [
        {
          "output_type": "stream",
          "name": "stdout",
          "text": [
            "                                                   title  category  \\\n",
            "0      Warning: HLVX is at high risk of performing badly  business   \n",
            "1      Warning: NTBLQ is at high risk of performing b...  business   \n",
            "2      Warning: MYNZ is at high risk of performing badly  business   \n",
            "3      Warning: ZVSA is at high risk of performing badly  business   \n",
            "4      Warning: CLDI is at high risk of performing badly  business   \n",
            "...                                                  ...       ...   \n",
            "56186  Heard in Davos: What we learned from the WEF i...  business   \n",
            "56187  Stock Market Today: All You Need To Know Going...  business   \n",
            "56188  Mediators aim to shore up fragile ceasefires i...  business   \n",
            "56189   Business Insider CEO Peng describes its strategy  business   \n",
            "56190  Reeves to tell Labour MPs to back growth strategy  business   \n",
            "\n",
            "       predicted_topic  correctly_classified  \n",
            "0                    0                  True  \n",
            "1                    0                  True  \n",
            "2                    0                  True  \n",
            "3                    0                  True  \n",
            "4                    0                  True  \n",
            "...                ...                   ...  \n",
            "56186                1                 False  \n",
            "56187                1                 False  \n",
            "56188                1                 False  \n",
            "56189                1                 False  \n",
            "56190                1                 False  \n",
            "\n",
            "[56191 rows x 4 columns]\n"
          ]
        },
        {
          "output_type": "stream",
          "name": "stderr",
          "text": [
            "/usr/local/lib/python3.11/dist-packages/sklearn/metrics/_classification.py:1565: UndefinedMetricWarning: Precision is ill-defined and being set to 0.0 in labels with no predicted samples. Use `zero_division` parameter to control this behavior.\n",
            "  _warn_prf(average, modifier, f\"{metric.capitalize()} is\", len(result))\n",
            "/usr/local/lib/python3.11/dist-packages/sklearn/metrics/_classification.py:1565: UndefinedMetricWarning: Recall is ill-defined and being set to 0.0 in labels with no true samples. Use `zero_division` parameter to control this behavior.\n",
            "  _warn_prf(average, modifier, f\"{metric.capitalize()} is\", len(result))\n",
            "/usr/local/lib/python3.11/dist-packages/sklearn/metrics/_classification.py:1565: UndefinedMetricWarning: Precision is ill-defined and being set to 0.0 in labels with no predicted samples. Use `zero_division` parameter to control this behavior.\n",
            "  _warn_prf(average, modifier, f\"{metric.capitalize()} is\", len(result))\n",
            "/usr/local/lib/python3.11/dist-packages/sklearn/metrics/_classification.py:1565: UndefinedMetricWarning: Recall is ill-defined and being set to 0.0 in labels with no true samples. Use `zero_division` parameter to control this behavior.\n",
            "  _warn_prf(average, modifier, f\"{metric.capitalize()} is\", len(result))\n"
          ]
        },
        {
          "output_type": "stream",
          "name": "stdout",
          "text": [
            "              precision    recall  f1-score   support\n",
            "\n",
            "           0       0.00      0.00      0.00       0.0\n",
            "           1       0.00      0.00      0.00       0.0\n",
            "    business       0.00      0.00      0.00   56191.0\n",
            "\n",
            "    accuracy                           0.00   56191.0\n",
            "   macro avg       0.00      0.00      0.00   56191.0\n",
            "weighted avg       0.00      0.00      0.00   56191.0\n",
            "\n"
          ]
        },
        {
          "output_type": "stream",
          "name": "stderr",
          "text": [
            "/usr/local/lib/python3.11/dist-packages/sklearn/metrics/_classification.py:1565: UndefinedMetricWarning: Precision is ill-defined and being set to 0.0 in labels with no predicted samples. Use `zero_division` parameter to control this behavior.\n",
            "  _warn_prf(average, modifier, f\"{metric.capitalize()} is\", len(result))\n",
            "/usr/local/lib/python3.11/dist-packages/sklearn/metrics/_classification.py:1565: UndefinedMetricWarning: Recall is ill-defined and being set to 0.0 in labels with no true samples. Use `zero_division` parameter to control this behavior.\n",
            "  _warn_prf(average, modifier, f\"{metric.capitalize()} is\", len(result))\n"
          ]
        }
      ]
    }
  ]
}